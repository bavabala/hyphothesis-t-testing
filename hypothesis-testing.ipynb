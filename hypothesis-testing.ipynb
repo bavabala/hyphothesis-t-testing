{
 "cells": [
  {
   "cell_type": "markdown",
   "metadata": {},
   "source": [
    "HO : Hnull : Mar age of IT Male in Ban is 30\n",
    "Ha : Halt  : Mar age of IT Male in Ban is NOT 30     \n",
    "Hypothesized mean : 30"
   ]
  },
  {
   "cell_type": "code",
   "execution_count": 1,
   "metadata": {},
   "outputs": [],
   "source": [
    "mar_age_ban = [33,28,32,35,32,28,29,27,35,30]"
   ]
  },
  {
   "cell_type": "markdown",
   "metadata": {},
   "source": [
    "# One Sample T-test"
   ]
  },
  {
   "cell_type": "code",
   "execution_count": 2,
   "metadata": {},
   "outputs": [
    {
     "name": "stdout",
     "output_type": "stream",
     "text": [
      "Skew: 0.1598122538284477\n",
      "kurtosis: -1.3529231721401982\n"
     ]
    },
    {
     "data": {
      "text/plain": [
       "Ttest_1sampResult(statistic=0.973644902065734, pvalue=0.355673335920514)"
      ]
     },
     "execution_count": 2,
     "metadata": {},
     "output_type": "execute_result"
    }
   ],
   "source": [
    "from scipy import stats\n",
    "print(\"Skew:\",stats.skew(mar_age_ban))\n",
    "print(\"kurtosis:\",stats.kurtosis(mar_age_ban))\n",
    "stats.ttest_1samp(mar_age_ban,30)"
   ]
  },
  {
   "cell_type": "code",
   "execution_count": 3,
   "metadata": {},
   "outputs": [],
   "source": [
    "# Statistic = 1.7,Prob Value = 0.1\n",
    "# 35.5% chance that HO is True"
   ]
  },
  {
   "cell_type": "markdown",
   "metadata": {},
   "source": [
    "# P < 5%,We REJECT HO,else we ACCEPT"
   ]
  },
  {
   "cell_type": "markdown",
   "metadata": {},
   "source": [
    "95% confidence Interval"
   ]
  },
  {
   "cell_type": "markdown",
   "metadata": {},
   "source": [
    "# P is not < 5% we fail to reject H0 so accept"
   ]
  },
  {
   "cell_type": "markdown",
   "metadata": {},
   "source": [
    "p = 30 which is not <5%,We fail to reject HO,We accept HO\n",
    "Yes,HO Mar age of IT Make in Ban is 30"
   ]
  },
  {
   "cell_type": "markdown",
   "metadata": {},
   "source": [
    "t_value > t_critical,Reject HO\n",
    "t_value =1.1,t_critical = 1.81(tc table look up)\n",
    "we fail to reject HO,So accept HO\n",
    "                              "
   ]
  },
  {
   "cell_type": "markdown",
   "metadata": {},
   "source": [
    "# Two Sample Independent T-test"
   ]
  },
  {
   "cell_type": "code",
   "execution_count": 4,
   "metadata": {},
   "outputs": [],
   "source": [
    "mar_age_ban = [33,28,32,35,32,28,29,27,35,30]\n",
    "mar_age_che = [37,35,29,39,35,41,28,32,34,35]"
   ]
  },
  {
   "cell_type": "markdown",
   "metadata": {},
   "source": [
    "HO :Mar age of BAn and Che of IT MAle are SAME.\n",
    "Null hypo always equate data distribution,say equal\n",
    "Ha :Mar age of BAn and Che of IT MAle is NOO SAME."
   ]
  },
  {
   "cell_type": "code",
   "execution_count": 5,
   "metadata": {},
   "outputs": [
    {
     "data": {
      "text/plain": [
       "Ttest_indResult(statistic=-2.274818752104128, pvalue=0.0353830225992083)"
      ]
     },
     "execution_count": 5,
     "metadata": {},
     "output_type": "execute_result"
    }
   ],
   "source": [
    "stats.ttest_ind(mar_age_ban,mar_age_che)"
   ]
  },
  {
   "cell_type": "markdown",
   "metadata": {},
   "source": [
    "P = 3.5%, < 5%,REJECT HO.Accept Ha\n",
    "Ha Mar age of Ban and che of MAle is NOT Same\n",
    "t_value is pos Ban > Che,Tvalue neg che>Ban\n",
    "T_value is Negative,Chennai Mar age is higher than Ban\n"
   ]
  },
  {
   "cell_type": "markdown",
   "metadata": {},
   "source": [
    "# Two Sample Relational T-Test"
   ]
  },
  {
   "cell_type": "code",
   "execution_count": 6,
   "metadata": {},
   "outputs": [],
   "source": [
    "before_rb = [40,55,60,38,50] # response time is cemti-sec\n",
    "after_rb = [30,35,40,28,30]"
   ]
  },
  {
   "cell_type": "markdown",
   "metadata": {},
   "source": [
    "HO : Response time before and after rb is same\n",
    "Ha : Response time before and after rb is NOT same"
   ]
  },
  {
   "cell_type": "code",
   "execution_count": 7,
   "metadata": {},
   "outputs": [
    {
     "data": {
      "text/plain": [
       "Ttest_relResult(statistic=6.531972647421809, pvalue=0.0028378459267344464)"
      ]
     },
     "execution_count": 7,
     "metadata": {},
     "output_type": "execute_result"
    }
   ],
   "source": [
    "stats.ttest_rel(before_rb,after_rb)"
   ]
  },
  {
   "cell_type": "markdown",
   "metadata": {},
   "source": [
    "P = 4.1%,<5%,REJECT HO,ACCEPT Ha.\n",
    "Response time before and after rb is not same\n",
    "RB effects your response time\n",
    "tvalue is positive,before res time > after res time.\n",
    "con: RB gives wings"
   ]
  },
  {
   "cell_type": "markdown",
   "metadata": {},
   "source": [
    "# Anova - Analysis of Variance,F-test"
   ]
  },
  {
   "cell_type": "code",
   "execution_count": 9,
   "metadata": {},
   "outputs": [],
   "source": [
    "# Compare data with  more than 2 samples"
   ]
  },
  {
   "cell_type": "code",
   "execution_count": 10,
   "metadata": {},
   "outputs": [],
   "source": [
    "leomen = [36,12,24,10,15,20]\n",
    "coffee=[33,10,38,12,13,19]\n",
    "rb=[31,9,39,13,10,15]"
   ]
  },
  {
   "cell_type": "code",
   "execution_count": 13,
   "metadata": {
    "collapsed": true
   },
   "outputs": [
    {
     "ename": "SyntaxError",
     "evalue": "invalid syntax (<ipython-input-13-4d34d3bbb71b>, line 1)",
     "output_type": "error",
     "traceback": [
      "\u001b[1;36m  File \u001b[1;32m\"<ipython-input-13-4d34d3bbb71b>\"\u001b[1;36m, line \u001b[1;32m1\u001b[0m\n\u001b[1;33m    HO : All Drinks response time are SAME\u001b[0m\n\u001b[1;37m                  ^\u001b[0m\n\u001b[1;31mSyntaxError\u001b[0m\u001b[1;31m:\u001b[0m invalid syntax\n"
     ]
    }
   ],
   "source": [
    "HO : All Drinks response time are SAME\n",
    "Ha : All Drinks response time are NOT SAME"
   ]
  },
  {
   "cell_type": "markdown",
   "metadata": {},
   "source": []
  },
  {
   "cell_type": "code",
   "execution_count": 15,
   "metadata": {},
   "outputs": [
    {
     "data": {
      "text/plain": [
       "F_onewayResult(statistic=0.02752214672744474, pvalue=0.9729021452250936)"
      ]
     },
     "execution_count": 15,
     "metadata": {},
     "output_type": "execute_result"
    }
   ],
   "source": [
    "stats.f_oneway(leomen,coffee,rb)"
   ]
  },
  {
   "cell_type": "markdown",
   "metadata": {},
   "source": [
    "P = 88.5,not < 5%,We accept HO\n",
    "HO : All drinks response times are SAME\n",
    "Conclusion : Drinks have no effect on response times"
   ]
  },
  {
   "cell_type": "code",
   "execution_count": 16,
   "metadata": {},
   "outputs": [
    {
     "data": {
      "text/plain": [
       "(0.9386679716361956, 0.01806460968509734)"
      ]
     },
     "execution_count": 16,
     "metadata": {},
     "output_type": "execute_result"
    }
   ],
   "source": [
    "sales = [100,140,145,150,180]\n",
    "discount = [10,20,30,40,50]\n",
    "stats.pearsonr(sales,discount)\n"
   ]
  },
  {
   "cell_type": "code",
   "execution_count": null,
   "metadata": {},
   "outputs": [],
   "source": []
  }
 ],
 "metadata": {
  "kernelspec": {
   "display_name": "Python 3",
   "language": "python",
   "name": "python3"
  },
  "language_info": {
   "codemirror_mode": {
    "name": "ipython",
    "version": 3
   },
   "file_extension": ".py",
   "mimetype": "text/x-python",
   "name": "python",
   "nbconvert_exporter": "python",
   "pygments_lexer": "ipython3",
   "version": "3.7.4"
  }
 },
 "nbformat": 4,
 "nbformat_minor": 2
}
